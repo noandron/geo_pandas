{
 "cells": [
  {
   "cell_type": "code",
   "execution_count": 174,
   "metadata": {},
   "outputs": [],
   "source": [
    "# декоратор\n",
    "import time\n",
    "from time import strftime\n",
    "def timeit(verbose):\n",
    "    def outer(func):\n",
    "        def wrapper(*args, **kwargs):\n",
    "            start = time.time()\n",
    "            result = func(*args, **kwargs)\n",
    "            end = time.time()\n",
    "            duration = round(end - start, 2)\n",
    "            if verbose == True:\n",
    "                print(f'start_time = {time.strftime(\"%H:%M:%S\", time.localtime(start))}, end_time = {time.strftime(\"%H:%M:%S\", time.localtime(end))}, duration = {duration} seconds')\n",
    "            elif verbose == False:\n",
    "                print(f'duration = {duration} seconds')\n",
    "            return result\n",
    "        return wrapper\n",
    "    return outer"
   ]
  },
  {
   "cell_type": "code",
   "execution_count": 175,
   "metadata": {},
   "outputs": [
    {
     "name": "stdout",
     "output_type": "stream",
     "text": [
      "duration=0.86 seconds\n"
     ]
    }
   ],
   "source": [
    "import geopandas as gpd\n",
    "import pandas as pd\n",
    "import os\n",
    "import xlwings as xw\n",
    "\n",
    "def saving_results(dataframe, plot): # функция для сохранения результатов в .xlsx\n",
    "    os.chdir('C://PythonProjects//geo_pandas//results/task1/')\n",
    "    with xw.App(visible=False) as app:\n",
    "        wb = xw.Book()\n",
    "        name = 'task1_results'\n",
    "        sht = wb.sheets[0]\n",
    "        sht.name = name\n",
    "        sht['A1'].value = dataframe # записываем df\n",
    "        fig = plot.get_figure() \n",
    "        sht.pictures.add(\n",
    "            fig, \n",
    "            left = sht.range('G1').left, \n",
    "            height = 300, width = 300\n",
    "            )\n",
    "        wb.save(f'{name}.xlsx')\n",
    "        wb.close()\n",
    "\n",
    "@timeit(verbose=True)\n",
    "\n",
    "def pivot_and_plot(file): # функция для расчетов по заданию\n",
    "    os.chdir('C://PythonProjects//geo_pandas//test_polygons')\n",
    "    gdf = gpd.read_file(file)\n",
    "    pivot = gdf[['ID', 'CATEGORY']].drop_duplicates().groupby('CATEGORY').count()\n",
    "    pivot['PERCENT'] = round(pivot['ID'] / pivot['ID'].sum() * 100, 2)\n",
    "    pivot = pivot.rename(columns={'ID' : 'POLYGON_COUNT'})\n",
    "    plot = pivot.plot(kind = 'pie', y = 'PERCENT', autopct='%1.0f%%', legend = False)\n",
    "    saving_results(pivot, plot) # сохраняем результаты в файл\n",
    "\n",
    "\n",
    "pivot_and_plot('test.shp')\n"
   ]
  },
  {
   "cell_type": "code",
   "execution_count": 177,
   "metadata": {},
   "outputs": [
    {
     "name": "stdout",
     "output_type": "stream",
     "text": [
      "duration=4.52 seconds\n"
     ]
    }
   ],
   "source": [
    "os.chdir('C://PythonProjects//geo_pandas//test_polygons')\n",
    "from geopandas.tools import overlay\n",
    "\n",
    "@timeit(verbose=False)\n",
    "def overlay_proccesing(file):\n",
    "    gdf = gpd.read_file(file).to_crs(3857)       # читаем shp file и переходим в 3857 чтобы получить метры вместо градусов\n",
    "    gdf['S'] = gdf.area                          # сразу посчитаем площадь каждого полигона\n",
    "    poly_list = list(range(len(gdf)))            # загоняем в список нумерацию строк\n",
    "    gdf_copy = gdf.copy()                        # сделаем копию gdf чтобы считать перекрытия\n",
    "    check_list = poly_list.copy()                # и сделаем копию листа со списком строк, чтобы потом удалять из него уже пройденные в цикле строки\n",
    "    cnt = 1                                      #для нумерации новых полигонов\n",
    "    gdf_new_list = []                            #тут будем собирать все перекрывающиеся полигоны\n",
    "\n",
    "    for i in poly_list: \n",
    "        check_list.remove(i)                     # тут сразу удаляем первую строку, чтобы не сравнивать самого с собой\n",
    "        for k in check_list:\n",
    "                # сравниваем строки каждую с каждой в двух gdf, фильтруем строки по индексам, ищем пересечения\n",
    "                # сдлеано именно по строкам потому, что есть полигон с одним именем но двумя разными значениями (POLY_2)\n",
    "                overlay_df = overlay(gdf.filter(items = [i], axis = 0), gdf_copy.filter(items = [k], axis = 0), how = 'intersection') \n",
    "                if len(overlay_df) > 0: # если пересение есть, то добавляем вычисления\n",
    "                    overlay_df['ID_NEW'] = f'NEW_POLY_{cnt}'\n",
    "                    overlay_df['S_NEW'] = overlay_df['geometry'].area\n",
    "                    overlay_df['VALUE_NEW'] = (overlay_df['S_NEW']/overlay_df['S_1'] * overlay_df['VALUE_1']) + (overlay_df['S_NEW'] / overlay_df['S_2'] * overlay_df['VALUE_2'])\n",
    "                    gdf_new_list.append(overlay_df) # добавляем полученный массив в общий список\n",
    "                    cnt += 1 # чтобы next ID обновился\n",
    "\n",
    "    over_gdf = pd.concat(gdf_new_list) # объединям все df в один\n",
    "    over_gdf = over_gdf[['ID_NEW', 'VALUE_NEW', 'geometry']].rename(columns={'ID_NEW':'ID', 'VALUE_NEW':'VALUE'}).reset_index(drop=True)\n",
    "    os.chdir('C://PythonProjects//geo_pandas//results/task2/') \n",
    "    over_gdf.to_file('new_shape.shp')   # сохраняем в файл\n",
    "\n",
    "overlay_proccesing('test.shp')\n"
   ]
  }
 ],
 "metadata": {
  "kernelspec": {
   "display_name": "Python 3",
   "language": "python",
   "name": "python3"
  },
  "language_info": {
   "codemirror_mode": {
    "name": "ipython",
    "version": 3
   },
   "file_extension": ".py",
   "mimetype": "text/x-python",
   "name": "python",
   "nbconvert_exporter": "python",
   "pygments_lexer": "ipython3",
   "version": "3.10.8"
  },
  "orig_nbformat": 4,
  "vscode": {
   "interpreter": {
    "hash": "18c2308811797e6d7e62a4b0e6e7b0fc6796108bee12fe0872d7ad66e3361d57"
   }
  }
 },
 "nbformat": 4,
 "nbformat_minor": 2
}
